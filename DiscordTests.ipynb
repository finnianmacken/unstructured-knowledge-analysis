{
 "cells": [
  {
   "cell_type": "code",
   "execution_count": 18,
   "metadata": {},
   "outputs": [],
   "source": [
    "import discord\n",
    "import json\n",
    "import logging\n",
    "import pandas as pd\n",
    "import nest_asyncio\n",
    "import os\n",
    "import yake\n",
    "import pke\n",
    "import spacy\n",
    "import numpy as np\n",
    "from tqdm import tqdm\n",
    "from datetime import datetime, timedelta\n",
    "import matplotlib.pyplot as plt\n",
    "import requests\n",
    "from sklearn.cluster import KMeans\n",
    "from filestack import Client\n",
    "from sentence_transformers import SentenceTransformer\n",
    "from spacy.matcher import Matcher\n",
    "from keybert import KeyBERT\n",
    "from transformers import pipeline\n",
    "from discord.ext import (\n",
    "    commands,\n",
    "    tasks\n",
    ")"
   ]
  },
  {
   "cell_type": "code",
   "execution_count": 19,
   "metadata": {},
   "outputs": [],
   "source": [
    "TOKEN = \"MTAxMDY5ODA2MTEyMDU0ODg5NA.GozkHN.Bkz-itRdIXE2eGuectTZ9sYDp98s1Q429vYWvY\"\n",
    "nest_asyncio.apply()\n",
    "discord.utils.setup_logging()"
   ]
  },
  {
   "cell_type": "code",
   "execution_count": 23,
   "metadata": {},
   "outputs": [
    {
     "name": "stderr",
     "output_type": "stream",
     "text": [
      "[2022-09-13 08:36:23] [INFO    ] discord.client: logging in using static token\n",
      "[2022-09-13 08:36:23] [INFO    ] discord.client: logging in using static token\n",
      "[2022-09-13 08:36:23] [INFO    ] discord.client: logging in using static token\n",
      "[2022-09-13 08:36:23] [INFO    ] discord.client: logging in using static token\n",
      "[2022-09-13 08:36:23] [INFO    ] discord.client: logging in using static token\n",
      "[2022-09-13 08:36:23] [INFO    ] discord.client: logging in using static token\n",
      "[2022-09-13 08:36:23] [INFO    ] discord.client: logging in using static token\n",
      "[2022-09-13 08:36:23] [INFO    ] discord.client: logging in using static token\n",
      "[2022-09-13 08:36:23] [INFO    ] discord.client: logging in using static token\n",
      "[2022-09-13 08:36:23] [INFO    ] discord.client: logging in using static token\n",
      "[2022-09-13 08:36:23] [INFO    ] discord.client: logging in using static token\n",
      "[2022-09-13 08:36:23] [INFO    ] discord.client: logging in using static token\n",
      "[2022-09-13 08:36:23] [INFO    ] discord.client: logging in using static token\n",
      "[2022-09-13 08:36:23] [INFO    ] discord.client: logging in using static token\n",
      "[2022-09-13 08:36:23] [INFO    ] discord.client: logging in using static token\n",
      "[2022-09-13 08:36:23] [INFO    ] discord.client: logging in using static token\n",
      "[2022-09-13 08:36:23] [INFO    ] discord.client: logging in using static token\n",
      "[2022-09-13 08:36:23] [INFO    ] discord.client: logging in using static token\n",
      "[2022-09-13 08:36:23] [INFO    ] discord.client: logging in using static token\n",
      "[2022-09-13 08:36:24] [INFO    ] discord.gateway: Shard ID None has connected to Gateway (Session ID: 81c47c28c67c2ad47bf569cccf69300a).\n",
      "[2022-09-13 08:36:24] [INFO    ] discord.gateway: Shard ID None has connected to Gateway (Session ID: 81c47c28c67c2ad47bf569cccf69300a).\n",
      "[2022-09-13 08:36:24] [INFO    ] discord.gateway: Shard ID None has connected to Gateway (Session ID: 81c47c28c67c2ad47bf569cccf69300a).\n",
      "[2022-09-13 08:36:24] [INFO    ] discord.gateway: Shard ID None has connected to Gateway (Session ID: 81c47c28c67c2ad47bf569cccf69300a).\n",
      "[2022-09-13 08:36:24] [INFO    ] discord.gateway: Shard ID None has connected to Gateway (Session ID: 81c47c28c67c2ad47bf569cccf69300a).\n",
      "[2022-09-13 08:36:24] [INFO    ] discord.gateway: Shard ID None has connected to Gateway (Session ID: 81c47c28c67c2ad47bf569cccf69300a).\n",
      "[2022-09-13 08:36:24] [INFO    ] discord.gateway: Shard ID None has connected to Gateway (Session ID: 81c47c28c67c2ad47bf569cccf69300a).\n",
      "[2022-09-13 08:36:24] [INFO    ] discord.gateway: Shard ID None has connected to Gateway (Session ID: 81c47c28c67c2ad47bf569cccf69300a).\n",
      "[2022-09-13 08:36:24] [INFO    ] discord.gateway: Shard ID None has connected to Gateway (Session ID: 81c47c28c67c2ad47bf569cccf69300a).\n",
      "[2022-09-13 08:36:24] [INFO    ] discord.gateway: Shard ID None has connected to Gateway (Session ID: 81c47c28c67c2ad47bf569cccf69300a).\n",
      "[2022-09-13 08:36:24] [INFO    ] discord.gateway: Shard ID None has connected to Gateway (Session ID: 81c47c28c67c2ad47bf569cccf69300a).\n",
      "[2022-09-13 08:36:24] [INFO    ] discord.gateway: Shard ID None has connected to Gateway (Session ID: 81c47c28c67c2ad47bf569cccf69300a).\n",
      "[2022-09-13 08:36:24] [INFO    ] discord.gateway: Shard ID None has connected to Gateway (Session ID: 81c47c28c67c2ad47bf569cccf69300a).\n",
      "[2022-09-13 08:36:24] [INFO    ] discord.gateway: Shard ID None has connected to Gateway (Session ID: 81c47c28c67c2ad47bf569cccf69300a).\n",
      "[2022-09-13 08:36:24] [INFO    ] discord.gateway: Shard ID None has connected to Gateway (Session ID: 81c47c28c67c2ad47bf569cccf69300a).\n",
      "[2022-09-13 08:36:24] [INFO    ] discord.gateway: Shard ID None has connected to Gateway (Session ID: 81c47c28c67c2ad47bf569cccf69300a).\n",
      "[2022-09-13 08:36:24] [INFO    ] discord.gateway: Shard ID None has connected to Gateway (Session ID: 81c47c28c67c2ad47bf569cccf69300a).\n",
      "[2022-09-13 08:36:24] [INFO    ] discord.gateway: Shard ID None has connected to Gateway (Session ID: 81c47c28c67c2ad47bf569cccf69300a).\n",
      "[2022-09-13 08:36:24] [INFO    ] discord.gateway: Shard ID None has connected to Gateway (Session ID: 81c47c28c67c2ad47bf569cccf69300a).\n"
     ]
    },
    {
     "name": "stdout",
     "output_type": "stream",
     "text": [
      "Bot FinnStructureTests#9111 is logged into guild Heptabase (id: 812292969183969301)\n",
      "Bot FinnStructureTests#9111 is logged into guild curl (id: 977651180308160512)\n"
     ]
    }
   ],
   "source": [
    "intents = discord.Intents.default()\n",
    "\n",
    "client = discord.Client(intents=intents)\n",
    "\n",
    "@client.event\n",
    "async def on_ready():\n",
    "        for guild in client.guilds:\n",
    "                print(f\"Bot {client.user} is logged into guild {guild} (id: {guild.id})\")\n",
    "\n",
    "client.run(TOKEN)"
   ]
  },
  {
   "cell_type": "markdown",
   "metadata": {},
   "source": [
    "## Actual Connection"
   ]
  },
  {
   "cell_type": "code",
   "execution_count": 22,
   "metadata": {},
   "outputs": [
    {
     "name": "stderr",
     "output_type": "stream",
     "text": [
      "[2022-09-13 07:21:29] [INFO    ] discord.client: logging in using static token\n",
      "[2022-09-13 07:21:29] [INFO    ] discord.client: logging in using static token\n",
      "[2022-09-13 07:21:29] [INFO    ] discord.client: logging in using static token\n",
      "[2022-09-13 07:21:29] [INFO    ] discord.client: logging in using static token\n",
      "[2022-09-13 07:21:29] [INFO    ] discord.client: logging in using static token\n",
      "[2022-09-13 07:21:29] [INFO    ] discord.client: logging in using static token\n",
      "[2022-09-13 07:21:29] [INFO    ] discord.client: logging in using static token\n",
      "[2022-09-13 07:21:29] [INFO    ] discord.client: logging in using static token\n",
      "[2022-09-13 07:21:29] [INFO    ] discord.client: logging in using static token\n",
      "[2022-09-13 07:21:29] [INFO    ] discord.client: logging in using static token\n",
      "[2022-09-13 07:21:29] [INFO    ] discord.client: logging in using static token\n",
      "[2022-09-13 07:21:29] [INFO    ] discord.client: logging in using static token\n",
      "[2022-09-13 07:21:29] [INFO    ] discord.client: logging in using static token\n",
      "[2022-09-13 07:21:29] [INFO    ] discord.client: logging in using static token\n",
      "[2022-09-13 07:21:29] [INFO    ] discord.client: logging in using static token\n",
      "[2022-09-13 07:21:29] [INFO    ] discord.client: logging in using static token\n",
      "[2022-09-13 07:21:29] [INFO    ] discord.client: logging in using static token\n",
      "[2022-09-13 07:21:29] [INFO    ] discord.client: logging in using static token\n",
      "[2022-09-13 07:21:31] [INFO    ] discord.gateway: Shard ID None has connected to Gateway (Session ID: 0e4e4ae03bb2a28a95fb4c3860f969f9).\n",
      "[2022-09-13 07:21:31] [INFO    ] discord.gateway: Shard ID None has connected to Gateway (Session ID: 0e4e4ae03bb2a28a95fb4c3860f969f9).\n",
      "[2022-09-13 07:21:31] [INFO    ] discord.gateway: Shard ID None has connected to Gateway (Session ID: 0e4e4ae03bb2a28a95fb4c3860f969f9).\n",
      "[2022-09-13 07:21:31] [INFO    ] discord.gateway: Shard ID None has connected to Gateway (Session ID: 0e4e4ae03bb2a28a95fb4c3860f969f9).\n",
      "[2022-09-13 07:21:31] [INFO    ] discord.gateway: Shard ID None has connected to Gateway (Session ID: 0e4e4ae03bb2a28a95fb4c3860f969f9).\n",
      "[2022-09-13 07:21:31] [INFO    ] discord.gateway: Shard ID None has connected to Gateway (Session ID: 0e4e4ae03bb2a28a95fb4c3860f969f9).\n",
      "[2022-09-13 07:21:31] [INFO    ] discord.gateway: Shard ID None has connected to Gateway (Session ID: 0e4e4ae03bb2a28a95fb4c3860f969f9).\n",
      "[2022-09-13 07:21:31] [INFO    ] discord.gateway: Shard ID None has connected to Gateway (Session ID: 0e4e4ae03bb2a28a95fb4c3860f969f9).\n",
      "[2022-09-13 07:21:31] [INFO    ] discord.gateway: Shard ID None has connected to Gateway (Session ID: 0e4e4ae03bb2a28a95fb4c3860f969f9).\n",
      "[2022-09-13 07:21:31] [INFO    ] discord.gateway: Shard ID None has connected to Gateway (Session ID: 0e4e4ae03bb2a28a95fb4c3860f969f9).\n",
      "[2022-09-13 07:21:31] [INFO    ] discord.gateway: Shard ID None has connected to Gateway (Session ID: 0e4e4ae03bb2a28a95fb4c3860f969f9).\n",
      "[2022-09-13 07:21:31] [INFO    ] discord.gateway: Shard ID None has connected to Gateway (Session ID: 0e4e4ae03bb2a28a95fb4c3860f969f9).\n",
      "[2022-09-13 07:21:31] [INFO    ] discord.gateway: Shard ID None has connected to Gateway (Session ID: 0e4e4ae03bb2a28a95fb4c3860f969f9).\n",
      "[2022-09-13 07:21:31] [INFO    ] discord.gateway: Shard ID None has connected to Gateway (Session ID: 0e4e4ae03bb2a28a95fb4c3860f969f9).\n",
      "[2022-09-13 07:21:31] [INFO    ] discord.gateway: Shard ID None has connected to Gateway (Session ID: 0e4e4ae03bb2a28a95fb4c3860f969f9).\n",
      "[2022-09-13 07:21:31] [INFO    ] discord.gateway: Shard ID None has connected to Gateway (Session ID: 0e4e4ae03bb2a28a95fb4c3860f969f9).\n",
      "[2022-09-13 07:21:31] [INFO    ] discord.gateway: Shard ID None has connected to Gateway (Session ID: 0e4e4ae03bb2a28a95fb4c3860f969f9).\n",
      "[2022-09-13 07:21:31] [INFO    ] discord.gateway: Shard ID None has connected to Gateway (Session ID: 0e4e4ae03bb2a28a95fb4c3860f969f9).\n"
     ]
    },
    {
     "name": "stdout",
     "output_type": "stream",
     "text": [
      "Bot FinnStructureTests is logged into guild Heptabase (id: 812292969183969301)\n",
      "Bot FinnStructureTests is logged into guild curl (id: 977651180308160512)\n",
      "Commencing\n",
      "Messages Saved\n",
      "Completed\n",
      "Commencing\n",
      "Messages Saved\n",
      "Completed\n"
     ]
    }
   ],
   "source": [
    "intents = discord.Intents.default()\n",
    "intents.message_content = True\n",
    "\n",
    "bot = commands.Bot(intents=intents, command_prefix=\"!\")\n",
    "\n",
    "@bot.event\n",
    "async def on_ready():\n",
    "    for guild in bot.guilds:\n",
    "        print(f\"Bot {bot.user.name} is logged into guild {guild} (id: {guild.id})\")\n",
    "\n",
    "\n",
    "@bot.command(name=\"history\", help=\"Prints the number of messages in the channel\")\n",
    "async def history(ctx):\n",
    "    print(\"Commencing\")\n",
    "    messages = [{\n",
    "        \"content\": message.content,\n",
    "        \"created_at\": message.created_at,\n",
    "        \"author\": message.author.name,\n",
    "        \"reference\": message.reference,\n",
    "        \"embeds\": message.embeds,\n",
    "        \"mentions\": message.mentions,\n",
    "        \"id\": message.id,\n",
    "        \"attachments\": message.attachments,\n",
    "\n",
    "    } async for message in ctx.channel.history(limit=1000000)]\n",
    "\n",
    "    print(\"Messages Saved\")\n",
    "    df = pd.DataFrame(messages)\n",
    "    desktop = os.path.join(os.path.join(os.path.expanduser('~')), 'Desktop') \n",
    "    df.to_csv(f\"{desktop}/{ctx.channel.name}-data.csv\", index=False, header=True)\n",
    "    print(\"Completed\")\n",
    "    # counter = 0\n",
    "    # message_list = []\n",
    "    # async for message in ctx.channel.history(limit=10000):\n",
    "    #     if message.author != bot.user:\n",
    "    #         counter += 1\n",
    "    #         message_list.append({\"content\": message.content, \n",
    "    #                              \"created_at\": message.created_at,\n",
    "    #                              \"author\": message.author.name,\n",
    "    #                              \"reference\": message.reference\n",
    "    #                              })\n",
    "\n",
    "    # df = pd.DataFrame(data={\"content\": [i['content'] for i in message_list],\n",
    "    #                         \"created_at\": [i['created_at'] for i in message_list],\n",
    "    #                         \"author\": [i['author'] for i in message_list],\n",
    "    #                         \"reference\": [i['reference'] for i in message_list]}\n",
    "    #                         )\n",
    "\n",
    "    # desktop = os.path.join(os.path.join(os.path.expanduser('~')), 'Desktop') \n",
    "    # df.to_csv(f\"{desktop}/{ctx.channel.name}-data.csv\", index=False, header=True)\n",
    "    # channel_message = f\"The channel {ctx.channel.name} has {counter} messages. Here's the last ten (not including mine): \\n > \"\n",
    "    # messages = \"\\n > \".join([f\"{i['author']}: {i['content']}\" for i in message_list[:10]])\n",
    "    # await ctx.send(\"DONE!\")\n",
    "\n",
    "bot.run(TOKEN)"
   ]
  },
  {
   "cell_type": "code",
   "execution_count": null,
   "metadata": {},
   "outputs": [],
   "source": [
    "messages"
   ]
  },
  {
   "cell_type": "markdown",
   "metadata": {},
   "source": [
    "### Basic Connection Test"
   ]
  },
  {
   "cell_type": "code",
   "execution_count": null,
   "metadata": {},
   "outputs": [],
   "source": [
    "intents = discord.Intents.default()\n",
    "\n",
    "client = discord.Client(intents=intents)\n",
    "\n",
    "@client.event\n",
    "async def on_ready():\n",
    "        for guild in client.guilds:\n",
    "                print(f\"Bot {client.user} is logged into guild {guild} (id: {guild.id})\")\n",
    "\n",
    "client.run(TOKEN)"
   ]
  },
  {
   "cell_type": "markdown",
   "metadata": {},
   "source": [
    "### Bot Connection Test"
   ]
  },
  {
   "cell_type": "code",
   "execution_count": null,
   "metadata": {},
   "outputs": [],
   "source": [
    "intents = discord.Intents.default()\n",
    "\n",
    "bot = commands.Bot(intents=intents, command_prefix=\"!\")\n",
    "\n",
    "@bot.event\n",
    "async def on_ready():\n",
    "    for guild in bot.guilds:\n",
    "        print(f\"Bot {bot.user.name} is logged into guild {guild} (id: {guild.id})\")\n",
    "bot.run(TOKEN)"
   ]
  },
  {
   "cell_type": "code",
   "execution_count": null,
   "metadata": {},
   "outputs": [],
   "source": [
    "intents = discord.Intents.default()\n",
    "intents.message_content = True\n",
    "print(list(intents))"
   ]
  },
  {
   "cell_type": "code",
   "execution_count": null,
   "metadata": {},
   "outputs": [],
   "source": [
    "intents = discord.Intents.default()\n",
    "intents.message_content = True\n",
    "\n",
    "# print(intents)\n",
    "bot = commands.Bot(intents=intents, command_prefix=\"&\")\n",
    "\n",
    "@bot.event\n",
    "async def on_ready():\n",
    "    for guild in bot.guilds:\n",
    "        print(f\"Bot {bot.user.name} is logged into guild {guild} (id: {guild.id})\")\n",
    "\n",
    "\n",
    "@bot.command(name=\"test\", help=\"Test Command\")\n",
    "async def test(ctx):\n",
    "    response = \"Hello!\"\n",
    "    await ctx.send(response)\n",
    "\n",
    "@bot.command(name=\"history\", help=\"Prints the number of messages in the channel\")\n",
    "async def history(ctx):\n",
    "    counter = 0\n",
    "    message_list = []\n",
    "    async for message in ctx.channel.history(limit=10000):\n",
    "        if message.author != bot.user:\n",
    "            counter += 1\n",
    "            message_list.append({\"content\": message.content, \n",
    "                                 \"created_at\": message.created_at,\n",
    "                                 \"author\": message.author.name,\n",
    "                                 \"reference\": message.reference\n",
    "                                 })\n",
    "\n",
    "    df = pd.DataFrame(data={\"content\": [i['content'] for i in message_list],\n",
    "                            \"created_at\": [i['created_at'] for i in message_list],\n",
    "                            \"author\": [i['author'] for i in message_list],\n",
    "                            \"reference\": [i['reference'] for i in message_list]}\n",
    "                            )\n",
    "\n",
    "    desktop = os.path.join(os.path.join(os.path.expanduser('~')), 'Desktop') \n",
    "    df.to_csv(f\"{desktop}/{ctx.channel.name}-data.csv\", index=False, header=True)\n",
    "    channel_message = f\"The channel {ctx.channel.name} has {counter} messages. Here's the last ten (not including mine): \\n > \"\n",
    "    messages = \"\\n > \".join([f\"{i['author']}: {i['content']}\" for i in message_list[:10]])\n",
    "    await ctx.send(channel_message + messages)\n",
    "\n",
    "@bot.command(name='visualise', help=\"Generates a visualisation of chat messages over time\")\n",
    "async def visualise(ctx):\n",
    "    message_list = []\n",
    "    async for message in ctx.channel.history(limit=10000):\n",
    "        if message.author != bot.user:\n",
    "            message_list.append({\"content\": message.content, \n",
    "                                 \"created_at\": message.created_at,\n",
    "                                 \"author\": message.author.name,\n",
    "                                 \"reference\": message.reference\n",
    "                                 })\n",
    "\n",
    "    df = pd.DataFrame(data={\"content\": [i['content'] for i in message_list],\n",
    "                            \"created_at\": [i['created_at'] for i in message_list],\n",
    "                            \"author\": [i['author'] for i in message_list],\n",
    "                            \"reference\": [i['reference'] for i in message_list]}\n",
    "                            )\n",
    "\n",
    "    df['date'] = pd.to_datetime(df['created_at']).dt.date\n",
    "    groups = df.groupby(['date']).count().reset_index().loc[:, ['date', 'author']]\n",
    "    plt.figure( figsize=(12, 6) )\n",
    "    plt.plot([f\"{i.day}/{i.month}\" for i in groups['date']], groups['author'], color='#CCCCCC')\n",
    "    plt.xlabel(\"Date\", fontweight='bold', fontsize=20)\n",
    "    plt.ylabel(\"Number of Messages\", fontweight='bold', fontsize=20)\n",
    "    plt.title(\"Chat Activity Over Time\", fontweight='bold', fontsize=24)\n",
    "    plt.savefig('images/test-discord.png', facecolor='white', transparent=False)\n",
    "\n",
    "    client = Client(\"ADNYNSPkZQAOfv9DkWnI3z\")\n",
    "\n",
    "    store_params = {\n",
    "        \"mimetype\": \"image/png\"\n",
    "    }\n",
    "\n",
    "    new_filelink = client.upload(filepath='images/test-discord.png', \n",
    "                                 store_params=store_params)\n",
    "\n",
    "    embed = discord.Embed(\n",
    "        title=\"Chat Metadata\",\n",
    "        url=\"https://abstract-poetry.fly.dev/\",\n",
    "        description=f\"#{ctx.channel.name} has {len(df)} messages from {len(df['author'].unique())} users.\",\n",
    "        color=discord.Color.blue()\n",
    "    )\n",
    "    embed.add_field(name=\"Chat Metadata\", value=\"The chat metadata goes here\")\n",
    "    embed.set_image(\n",
    "        url=new_filelink.url\n",
    "    )\n",
    "    await ctx.send(embed=embed)\n",
    "\n",
    "bot.run(TOKEN)"
   ]
  },
  {
   "cell_type": "markdown",
   "metadata": {},
   "source": [
    "### Keyword Extraction Test"
   ]
  },
  {
   "cell_type": "code",
   "execution_count": null,
   "metadata": {},
   "outputs": [],
   "source": [
    "df = pd.read_csv(\"/Users/finnmacken/Desktop/Code/ChatStructure/moderator-only-data.csv\")"
   ]
  },
  {
   "cell_type": "code",
   "execution_count": null,
   "metadata": {},
   "outputs": [],
   "source": [
    "content_string = \" \".join([str(i) for i in list(df['content'])])"
   ]
  },
  {
   "cell_type": "code",
   "execution_count": null,
   "metadata": {},
   "outputs": [],
   "source": [
    "len(content_string)"
   ]
  },
  {
   "cell_type": "markdown",
   "metadata": {},
   "source": [
    "#### Bert"
   ]
  },
  {
   "cell_type": "code",
   "execution_count": null,
   "metadata": {},
   "outputs": [],
   "source": [
    "bert = KeyBERT()\n",
    "\n",
    "def keybert_extractor(text):\n",
    "    \"\"\"\n",
    "    Uses KeyBERT to extract the top 5 keywords from a text\n",
    "    Arguments: text (str)\n",
    "    Returns: list of keywords (list)\n",
    "    \"\"\"\n",
    "    keywords = bert.extract_keywords(text, keyphrase_ngram_range=(1, 2), stop_words=\"english\", use_maxsum=True, top_n=20)\n",
    "    return keywords"
   ]
  },
  {
   "cell_type": "code",
   "execution_count": null,
   "metadata": {},
   "outputs": [],
   "source": [
    "keybert_extractor(content_string)"
   ]
  },
  {
   "cell_type": "markdown",
   "metadata": {},
   "source": [
    "#### Yake"
   ]
  },
  {
   "cell_type": "code",
   "execution_count": null,
   "metadata": {},
   "outputs": [],
   "source": [
    "language = \"en\"\n",
    "max_ngram_size = 3\n",
    "deduplication_threshold = 0.9\n",
    "deduplication_algo = 'seqm'\n",
    "windowSize = 1\n",
    "numOfKeywords = 20\n",
    "\n",
    "yake_extractor = yake.KeywordExtractor()\n",
    "# yake_extractor = yake.KeywordExtractor(lan=language,\n",
    "#                                         n=max_ngram_size,\n",
    "#                                         dedupLim=deduplication_threshold,\n",
    "#                                         dedupFunc=deduplication_algo,\n",
    "#                                         top=numOfKeywords,\n",
    "#                                         features=None\n",
    "#                                         )\n",
    "keywords = yake_extractor.extract_keywords(content_string)\n",
    "for kw in keywords:\n",
    "    print(kw)"
   ]
  },
  {
   "cell_type": "markdown",
   "metadata": {},
   "source": [
    "#### PKE"
   ]
  },
  {
   "cell_type": "code",
   "execution_count": null,
   "metadata": {},
   "outputs": [],
   "source": [
    "extractor = pke.unsupervised.TopicRank()\n",
    "extractor.load_document(content_string)\n",
    "extractor.candidate_selection(pos={'PROPN'})\n",
    "extractor.candidate_weighting(threshold=0.74,\n",
    "                              method='average')\n",
    "keyphrases = extractor.get_n_best(n=30)\n"
   ]
  },
  {
   "cell_type": "code",
   "execution_count": null,
   "metadata": {},
   "outputs": [],
   "source": [
    "keyphrases"
   ]
  },
  {
   "cell_type": "markdown",
   "metadata": {},
   "source": [
    "## Question Parsing"
   ]
  },
  {
   "cell_type": "code",
   "execution_count": null,
   "metadata": {},
   "outputs": [],
   "source": [
    "content_string = \" \".join([str(i) for i in list(df['content'])])"
   ]
  },
  {
   "cell_type": "code",
   "execution_count": null,
   "metadata": {},
   "outputs": [],
   "source": [
    "doc = nlp(content_string)\n",
    "\n",
    "for token in doc:\n",
    "    if token.text == \"?\":\n",
    "        print(token.sent)"
   ]
  },
  {
   "cell_type": "code",
   "execution_count": null,
   "metadata": {},
   "outputs": [],
   "source": []
  },
  {
   "cell_type": "code",
   "execution_count": null,
   "metadata": {},
   "outputs": [],
   "source": [
    "interrogative_list = ['which', 'what', 'whose', 'who', 'whom', 'where', 'whither', 'whence', 'when', 'how', 'why', 'whether']\n",
    "\n",
    "# for index, sentence in enumerate(doc.sents):\n",
    "#     # if sentence[0].lemma_ in interrogative_list:\n",
    "#     #     print(sentence)\n",
    "    \n",
    "#     if doc.text[sentence.end_char-1] == \"?\":\n",
    "#         print(\"INDEX\", index)\n",
    "#         print(\"SENTENCE\", sentence)\n",
    "\n",
    "question_df = pd.DataFrame(data = {'questions': [sent for sent in doc.sents if doc.text[sent.end_char-1] == \"?\"]})"
   ]
  },
  {
   "cell_type": "code",
   "execution_count": null,
   "metadata": {},
   "outputs": [],
   "source": [
    "question_df.iloc[1]['questions']"
   ]
  },
  {
   "cell_type": "code",
   "execution_count": null,
   "metadata": {},
   "outputs": [],
   "source": [
    "# def includes_questions(doc):\n",
    "\n",
    "doc = nlp(df.iloc[721]['content'])\n",
    "\n",
    "for token in doc:\n",
    "    print(token.text, token.lemma_, token.pos_, token.dep_)\n"
   ]
  },
  {
   "cell_type": "code",
   "execution_count": null,
   "metadata": {},
   "outputs": [],
   "source": [
    "doc[0].sent.end_char"
   ]
  },
  {
   "cell_type": "code",
   "execution_count": null,
   "metadata": {},
   "outputs": [],
   "source": []
  },
  {
   "cell_type": "code",
   "execution_count": null,
   "metadata": {},
   "outputs": [],
   "source": [
    "['which', 'what', 'whose', 'who', 'whom', 'where', 'whither', 'whence', 'when', 'how', 'why', 'whether'] and doc.text[tok.sent.end_char-1] == '?']"
   ]
  },
  {
   "cell_type": "markdown",
   "metadata": {},
   "source": [
    "## Rules Based Matching"
   ]
  },
  {
   "cell_type": "code",
   "execution_count": null,
   "metadata": {},
   "outputs": [],
   "source": [
    "nlp = spacy.load(\"en_core_web_sm\")\n",
    "matcher = Matcher(nlp.vocab)\n",
    "\n",
    "pattern = [{\"LOWER\": \"?\"}, {\"IS_PUNCT\": True}]\n",
    "matcher.add(\"QuestionMark\", [pattern])"
   ]
  },
  {
   "cell_type": "code",
   "execution_count": null,
   "metadata": {},
   "outputs": [],
   "source": [
    "doc = nlp(content_string)\n",
    "matches = matcher(doc)"
   ]
  },
  {
   "cell_type": "code",
   "execution_count": null,
   "metadata": {},
   "outputs": [],
   "source": []
  },
  {
   "cell_type": "markdown",
   "metadata": {},
   "source": [
    "## Larger Test Datasets"
   ]
  },
  {
   "cell_type": "code",
   "execution_count": null,
   "metadata": {},
   "outputs": [],
   "source": [
    "reddit_df = pd.read_json(\"/Users/finnmacken/Desktop/reddit_casual.json\")"
   ]
  },
  {
   "cell_type": "code",
   "execution_count": null,
   "metadata": {},
   "outputs": [],
   "source": [
    "reddit_df.iloc[2000]['lines']"
   ]
  },
  {
   "cell_type": "code",
   "execution_count": null,
   "metadata": {},
   "outputs": [],
   "source": []
  },
  {
   "cell_type": "markdown",
   "metadata": {},
   "source": [
    "## Basic Metadata\n",
    "- How many people are in the chat?\n",
    "- How frequently do people communicate?\n",
    "- Who talks the most and the least?\n",
    "- What do people tend to talk about?"
   ]
  },
  {
   "cell_type": "code",
   "execution_count": null,
   "metadata": {},
   "outputs": [],
   "source": [
    "df = pd.read_csv(\"/Users/finnmacken/Desktop/Code/ChatStructure/moderator-only-data.csv\")"
   ]
  },
  {
   "cell_type": "code",
   "execution_count": null,
   "metadata": {},
   "outputs": [],
   "source": [
    "def overall_activity(df):\n",
    "    value_dict = dict(df.loc[:, \"author\"].value_counts())\n",
    "    users = value_dict.keys()\n",
    "    message_count = value_dict.values()\n",
    "\n",
    "    plt.bar(users, message_count, color='#CCCCCC')\n",
    "    plt.xlabel(\"User\", fontweight='bold')\n",
    "    plt.ylabel(\"Number of Messages\", fontweight='bold')\n",
    "    plt.title(\"Number of Messages by User\")\n",
    "    return dict(df.loc[:, \"author\"].value_counts())\n",
    "\n",
    "overall_activity(df)"
   ]
  },
  {
   "cell_type": "code",
   "execution_count": null,
   "metadata": {},
   "outputs": [],
   "source": [
    "filtered_df = df[df['author'] == 'finn'].loc[:, ['created_at', 'author']]\n",
    "filtered_df['created_at'] = pd.to_datetime(filtered_df['created_at']).dt.date"
   ]
  },
  {
   "cell_type": "code",
   "execution_count": null,
   "metadata": {},
   "outputs": [],
   "source": [
    "filtered_df.groupby(['created_at']).count().reset_index()"
   ]
  },
  {
   "cell_type": "code",
   "execution_count": null,
   "metadata": {},
   "outputs": [],
   "source": [
    "def messages_per_user_over_time(df):\n",
    "    for author in df.loc[:, 'author'].unique():\n",
    "        filtered_df = df[df['author'] == author].loc[:, ['created_at', 'author']]\n",
    "        filtered_df['created_at'] = pd.to_datetime(filtered_df['created_at']).dt.date\n",
    "        group = filtered_df.groupby(['created_at']).count().reset_index()\n",
    "        plt.figure(figsize=(12, 6))\n",
    "        plt.plot([f\"{i.day}/{i.month}\" for i in group['created_at']], group['author'], color=\"#CCCCCC\")\n",
    "        plt.xlabel(\"Date\", fontweight='bold')\n",
    "        plt.ylabel(\"Number of Messages\", fontweight='bold')\n",
    "        plt.title(f\"Message Visualisation for {author}\")\n",
    "        plt.show()\n",
    "\n",
    "messages_per_user_over_time(df)"
   ]
  },
  {
   "cell_type": "code",
   "execution_count": null,
   "metadata": {},
   "outputs": [],
   "source": [
    "# format = \"%Y-%m-%d %H:%M:%S.%f%z\"\n",
    "# datetime.strptime(df['created_at'][0], format)"
   ]
  },
  {
   "cell_type": "code",
   "execution_count": null,
   "metadata": {},
   "outputs": [],
   "source": [
    "timespan = df['created_at'].max() - df['created_at'].min()\n",
    "\n",
    "timespan"
   ]
  },
  {
   "cell_type": "code",
   "execution_count": null,
   "metadata": {},
   "outputs": [],
   "source": [
    "df['date'] = pd.to_datetime(df['created_at']).dt.date\n"
   ]
  },
  {
   "cell_type": "code",
   "execution_count": null,
   "metadata": {},
   "outputs": [],
   "source": [
    "groups = df.groupby(['date']).count().reset_index().loc[:, ['date', 'author']]"
   ]
  },
  {
   "cell_type": "code",
   "execution_count": null,
   "metadata": {},
   "outputs": [],
   "source": [
    "groups"
   ]
  },
  {
   "cell_type": "code",
   "execution_count": null,
   "metadata": {},
   "outputs": [],
   "source": [
    "groups['author'].sum()"
   ]
  },
  {
   "cell_type": "code",
   "execution_count": null,
   "metadata": {},
   "outputs": [],
   "source": [
    "df['date'] = df['created_at']\n",
    "\n",
    "df['date'] = pd.to_datetime(df[\"date\"]).dt.date"
   ]
  },
  {
   "cell_type": "code",
   "execution_count": null,
   "metadata": {},
   "outputs": [],
   "source": [
    "created_times = pd.to_datetime(df['created_at'])\n",
    "timespan = created_times.max() - created_times.min()\n",
    "frac_timespan = timespan.total_seconds() / timedelta(days=1).total_seconds()\n",
    "\n",
    "groups['author'].sum() / frac_timespan"
   ]
  },
  {
   "cell_type": "code",
   "execution_count": null,
   "metadata": {},
   "outputs": [],
   "source": [
    "def messages_per_day(df):\n",
    "    # Messages Per Day\n",
    "    df['date'] = pd.to_datetime(df['created_at']).dt.date\n",
    "    groups = df.groupby(['date']).count().reset_index().loc[:, ['date', 'author']]\n",
    "    plt.figure( figsize=(12, 6) )\n",
    "    plt.plot([f\"{i.day}/{i.month}\" for i in groups['date']], groups['author'], color='#CCCCCC')\n",
    "    plt.xlabel(\"Date\", fontweight='bold')\n",
    "    plt.ylabel(\"Number of Messages\", fontweight='bold')\n",
    "    plt.title(\"Chat Activity Over Time\", fontweight='bold')\n",
    "    plt.show()\n",
    "\n",
    "    # Average Messages\n",
    "    created_times = pd.to_datetime(df['created_at'])\n",
    "    timespan = created_times.max() - created_times.min()\n",
    "    frac_timespan = timespan.total_seconds() / timedelta(days=1).total_seconds()\n",
    "    print(f\"The channel has {round(groups['author'].sum() / frac_timespan, 2)} messages per day on average\")\n",
    "\n",
    "messages_per_day(df)"
   ]
  },
  {
   "cell_type": "code",
   "execution_count": null,
   "metadata": {},
   "outputs": [],
   "source": [
    "client = Client(\"ADNYNSPkZQAOfv9DkWnI3z\")\n",
    "\n",
    "def save_and_upload(df):\n",
    "    df['date'] = pd.to_datetime(df['created_at']).dt.date\n",
    "    groups = df.groupby(['date']).count().reset_index().loc[:, ['date', 'author']]\n",
    "    plt.figure( figsize=(12, 6) )\n",
    "    plt.plot([f\"{i.day}/{i.month}\" for i in groups['date']], groups['author'], color='#CCCCCC')\n",
    "    plt.xlabel(\"Date\", fontweight='bold')\n",
    "    plt.ylabel(\"Number of Messages\", fontweight='bold')\n",
    "    plt.savefig('images/test-discord.png')\n",
    "    plt.show()\n",
    "\n",
    "    store_params = {\n",
    "        \"mimetype\": \"image/png\"\n",
    "    }\n",
    "\n",
    "    new_filelink = client.upload(filepath='images/test-discord.png', \n",
    "                                 store_params=store_params)\n",
    "\n",
    "    return new_filelink.url\n",
    "    \n",
    "\n",
    "\n",
    "res = save_and_upload(df)\n",
    "res"
   ]
  },
  {
   "cell_type": "markdown",
   "metadata": {},
   "source": [
    "## Question Clustering"
   ]
  },
  {
   "cell_type": "code",
   "execution_count": null,
   "metadata": {},
   "outputs": [],
   "source": [
    "sbert_model = SentenceTransformer('bert-base-nli-mean-tokens')"
   ]
  },
  {
   "cell_type": "code",
   "execution_count": null,
   "metadata": {},
   "outputs": [],
   "source": [
    "sentence_embeddings = sbert_model.encode(list(question_df['questions']))"
   ]
  },
  {
   "cell_type": "code",
   "execution_count": null,
   "metadata": {},
   "outputs": [],
   "source": [
    "knn = KMeans(n_clusters=10)\n",
    "\n",
    "labels = knn.fit_predict(sentence_embeddings)"
   ]
  },
  {
   "cell_type": "code",
   "execution_count": null,
   "metadata": {},
   "outputs": [],
   "source": [
    "messages = list(list(question_df['questions']))\n",
    "clusters = [[] for i in range(len(set(labels)))]\n",
    "clusters\n",
    "for i in range(len(labels)):\n",
    "    clusters[labels[i]].append(messages[i])\n"
   ]
  },
  {
   "cell_type": "code",
   "execution_count": null,
   "metadata": {},
   "outputs": [],
   "source": [
    "clusters[5]"
   ]
  },
  {
   "cell_type": "markdown",
   "metadata": {},
   "source": [
    "## Zero Shot Classification"
   ]
  },
  {
   "cell_type": "code",
   "execution_count": null,
   "metadata": {},
   "outputs": [],
   "source": [
    "classifier = pipeline(\"zero-shot-classification\")"
   ]
  },
  {
   "cell_type": "code",
   "execution_count": null,
   "metadata": {},
   "outputs": [],
   "source": [
    "candidate_labels = [\"Bug\", \"Strategy\"] "
   ]
  },
  {
   "cell_type": "code",
   "execution_count": null,
   "metadata": {},
   "outputs": [],
   "source": [
    "bug_reports = []\n",
    "feature_requests = []\n",
    "product_strategy = []\n",
    "for element in list(df['content'][300:500]):\n",
    "    print(str(element))\n",
    "    res = classifier(str(element), candidate_labels)\n",
    "    bug_reports.append((str(element), res['scores'][0]))\n",
    "    # feature_requests.append((str(element), res['scores'][1]))\n",
    "    product_strategy.append((str(element), res['scores'][1]))"
   ]
  },
  {
   "cell_type": "code",
   "execution_count": null,
   "metadata": {},
   "outputs": [],
   "source": [
    "bug_reports.sort(key=lambda x: x[1], reverse=True)\n",
    "# feature_requests.sort(key=lambda x: x[1], reverse=True)\n",
    "product_strategy.sort(key=lambda x: x[1], reverse=True)"
   ]
  },
  {
   "cell_type": "code",
   "execution_count": null,
   "metadata": {},
   "outputs": [],
   "source": [
    "product_strategy"
   ]
  },
  {
   "cell_type": "markdown",
   "metadata": {},
   "source": [
    "## Telegram Test"
   ]
  },
  {
   "cell_type": "code",
   "execution_count": null,
   "metadata": {},
   "outputs": [],
   "source": [
    "f = open(\"/Users/finnmacken/Desktop/Code/ChatStructure/telegram-conversations/cross-class.json\")\n",
    "json_data = json.load(f)"
   ]
  },
  {
   "cell_type": "code",
   "execution_count": null,
   "metadata": {},
   "outputs": [],
   "source": [
    "json_data['messages']"
   ]
  },
  {
   "cell_type": "code",
   "execution_count": null,
   "metadata": {},
   "outputs": [],
   "source": [
    "tel_df = pd.json_normalize(json_data['messages'])"
   ]
  },
  {
   "cell_type": "code",
   "execution_count": null,
   "metadata": {},
   "outputs": [],
   "source": [
    "# FIND QUESTIONS\n",
    "tel_df['text'][0]"
   ]
  },
  {
   "cell_type": "code",
   "execution_count": null,
   "metadata": {},
   "outputs": [],
   "source": [
    "tel_df.drop(tel_df[tel_df['text'] ==)"
   ]
  },
  {
   "cell_type": "code",
   "execution_count": null,
   "metadata": {},
   "outputs": [],
   "source": []
  }
 ],
 "metadata": {
  "kernelspec": {
   "display_name": "Python 3.9.13 64-bit",
   "language": "python",
   "name": "python3"
  },
  "language_info": {
   "codemirror_mode": {
    "name": "ipython",
    "version": 3
   },
   "file_extension": ".py",
   "mimetype": "text/x-python",
   "name": "python",
   "nbconvert_exporter": "python",
   "pygments_lexer": "ipython3",
   "version": "3.9.13"
  },
  "orig_nbformat": 4,
  "vscode": {
   "interpreter": {
    "hash": "b0fa6594d8f4cbf19f97940f81e996739fb7646882a419484c72d19e05852a7e"
   }
  }
 },
 "nbformat": 4,
 "nbformat_minor": 2
}
